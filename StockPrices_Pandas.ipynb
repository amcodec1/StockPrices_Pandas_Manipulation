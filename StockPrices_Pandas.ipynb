{
 "cells": [
  {
   "cell_type": "markdown",
   "metadata": {},
   "source": [
    "# StockPrices\n",
    "You are given a list of stocks and their daily closing prices for a given period.\n",
    "Your task is to determine which pair of stocks had the most highly (linearly) correlated daily percentage changes of closing prices.\n",
    "For example, with the sample data below the function should return ['FB', 'MSFT']."
   ]
  },
  {
   "cell_type": "code",
   "execution_count": 1,
   "metadata": {
    "collapsed": true
   },
   "outputs": [],
   "source": [
    "import pandas as pd\n",
    "import numpy as np"
   ]
  },
  {
   "cell_type": "code",
   "execution_count": 2,
   "metadata": {
    "collapsed": true
   },
   "outputs": [],
   "source": [
    "def most_corr(prices):\n",
    "    df = pd.DataFrame(prices)\n",
    "    for cols in df.columns:\n",
    "        df[cols] = df[cols].pct_change()\n",
    "    au_corr = df.corr()\n",
    "    np.fill_diagonal(au_corr.values, -2)\n",
    "    fin_ls = au_corr.max().sort_values(ascending=False).index[0:2].tolist()\n",
    "    return fin_ls"
   ]
  },
  {
   "cell_type": "code",
   "execution_count": 3,
   "metadata": {
    "collapsed": true
   },
   "outputs": [],
   "source": [
    "prices = {\n",
    "    'GOOG' : [\n",
    "        742.66, 738.40, 738.22, 741.16,\n",
    "        739.98, 747.28, 746.22, 741.80,\n",
    "        745.33, 741.29, 742.83, 750.50\n",
    "    ],\n",
    "    'FB' : [\n",
    "        108.40, 107.92, 109.64, 112.22,\n",
    "        109.57, 113.82, 114.03, 112.24,\n",
    "        114.68, 112.92, 113.28, 115.40\n",
    "    ],\n",
    "    'MSFT' : [\n",
    "        55.40, 54.63, 54.98, 55.88,\n",
    "        54.12, 59.16, 58.14, 55.97,\n",
    "        61.20, 57.14, 56.62, 59.25\n",
    "    ],\n",
    "    'AAPL' : [\n",
    "        106.00, 104.66, 104.87, 105.69,\n",
    "        104.22, 110.16, 109.84, 108.86,\n",
    "        110.14, 107.66, 108.08, 109.90\n",
    "    ]\n",
    "}"
   ]
  },
  {
   "cell_type": "code",
   "execution_count": 4,
   "metadata": {},
   "outputs": [
    {
     "name": "stdout",
     "output_type": "stream",
     "text": [
      "['MSFT', 'FB']\n"
     ]
    }
   ],
   "source": [
    "print(most_corr(prices))"
   ]
  },
  {
   "cell_type": "code",
   "execution_count": null,
   "metadata": {
    "collapsed": true
   },
   "outputs": [],
   "source": []
  }
 ],
 "metadata": {
  "kernelspec": {
   "display_name": "Python 2",
   "language": "python",
   "name": "python2"
  },
  "language_info": {
   "codemirror_mode": {
    "name": "ipython",
    "version": 2
   },
   "file_extension": ".py",
   "mimetype": "text/x-python",
   "name": "python",
   "nbconvert_exporter": "python",
   "pygments_lexer": "ipython2",
   "version": "2.7.13"
  }
 },
 "nbformat": 4,
 "nbformat_minor": 2
}
